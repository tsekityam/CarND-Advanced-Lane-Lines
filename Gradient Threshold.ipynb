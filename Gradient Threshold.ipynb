{
 "cells": [
  {
   "cell_type": "code",
   "execution_count": null,
   "metadata": {
    "collapsed": true
   },
   "outputs": [],
   "source": [
    "import glob\n",
    "import pickle\n",
    "\n",
    "import cv2\n",
    "import matplotlib.pyplot as plt\n",
    "import matplotlib.image as mpimg\n",
    "import numpy as np\n",
    "\n",
    "%matplotlib inline"
   ]
  },
  {
   "cell_type": "code",
   "execution_count": null,
   "metadata": {
    "collapsed": true
   },
   "outputs": [],
   "source": [
    "images = glob.glob('test_images/test*.jpg')\n",
    "\n",
    "transform_pickle_path = 'wide_transform_pickle.p'\n",
    "with open(transform_pickle_path, mode='rb') as f:\n",
    "    transform_pickle = pickle.load(f)\n",
    "M, Minv = transform_pickle['M'], transform_pickle['Minv']\n",
    "\n",
    "dist_pickle_path = 'wide_dist_pickle.p'\n",
    "with open(dist_pickle_path, mode='rb') as f:\n",
    "    dist_pickle = pickle.load(f)\n",
    "mtx, dist = dist_pickle['mtx'], dist_pickle['dist']"
   ]
  },
  {
   "cell_type": "code",
   "execution_count": null,
   "metadata": {
    "collapsed": true
   },
   "outputs": [],
   "source": [
    "# Edit this function to create your own pipeline.\n",
    "def pipeline(img, s_thresh=(170, 255), sx_thresh=(20, 100)):\n",
    "    img = np.copy(img)\n",
    "    # Convert to HSV color space and separate the V channel\n",
    "    hsv = cv2.cvtColor(img, cv2.COLOR_RGB2HLS).astype(np.float)\n",
    "    l_channel = hsv[:,:,1]\n",
    "    s_channel = hsv[:,:,2]\n",
    "    \n",
    "    # Sobel x\n",
    "    sobelx = cv2.Sobel(l_channel, cv2.CV_64F, 1, 0) # Take the derivative in x\n",
    "    abs_sobelx = np.absolute(sobelx) # Absolute x derivative to accentuate lines away from horizontal\n",
    "    scaled_sobel = np.uint8(255*abs_sobelx/np.max(abs_sobelx))\n",
    "    \n",
    "    # Threshold x gradient\n",
    "    sxbinary = np.zeros_like(scaled_sobel)\n",
    "    sxbinary[(scaled_sobel >= sx_thresh[0]) & (scaled_sobel <= sx_thresh[1])] = 1\n",
    "    \n",
    "    # Threshold color channel\n",
    "    s_binary = np.zeros_like(s_channel)\n",
    "    s_binary[(s_channel >= s_thresh[0]) & (s_channel <= s_thresh[1])] = 1\n",
    "    # Stack each channel\n",
    "    # Note color_binary[:, :, 0] is all 0s, effectively an all black image. It might\n",
    "    # be beneficial to replace this channel with something else.\n",
    "    binary_output = np.zeros_like(sxbinary)\n",
    "    binary_output[(s_binary == 1) | (sxbinary == 1)] = 1\n",
    "    return binary_output"
   ]
  },
  {
   "cell_type": "code",
   "execution_count": null,
   "metadata": {
    "collapsed": false
   },
   "outputs": [],
   "source": [
    "# Step through the list and search for chessboard corners\n",
    "fig = plt.figure(figsize=(10, 15))\n",
    "\n",
    "for idx, fname in enumerate(images):    \n",
    "    img = mpimg.imread(fname)\n",
    "    img = cv2.undistort(img, mtx, dist, None, mtx)\n",
    "    img_size = img.shape[1::-1]\n",
    "\n",
    "\n",
    "    # Draw and display the original images\n",
    "    sub1 = plt.subplot(len(images), 2, (idx*2)+1)\n",
    "    sub1.imshow(img)\n",
    "    if idx == 0:\n",
    "        sub1.set_title('Original Images')\n",
    "    \n",
    "    # Apply each of the thresholding functions  \n",
    "    thresholded_img = pipeline(img)\n",
    "    thresholded_img = cv2.warpPerspective(thresholded_img, M, img_size, flags=cv2.INTER_LINEAR)\n",
    "    sub2 = plt.subplot(len(images), 2, (idx*2)+2)\n",
    "    sub2.imshow(thresholded_img, cmap='gray')\n",
    "    if idx == 0:\n",
    "        sub2.set_title('Original Images with source points')\n",
    "\n",
    "fig.tight_layout()\n",
    "plt.show()"
   ]
  },
  {
   "cell_type": "code",
   "execution_count": null,
   "metadata": {
    "collapsed": true
   },
   "outputs": [],
   "source": []
  }
 ],
 "metadata": {
  "kernelspec": {
   "display_name": "Python 3",
   "language": "python",
   "name": "python3"
  },
  "language_info": {
   "codemirror_mode": {
    "name": "ipython",
    "version": 3
   },
   "file_extension": ".py",
   "mimetype": "text/x-python",
   "name": "python",
   "nbconvert_exporter": "python",
   "pygments_lexer": "ipython3",
   "version": "3.5.2"
  },
  "widgets": {
   "state": {},
   "version": "1.1.2"
  }
 },
 "nbformat": 4,
 "nbformat_minor": 2
}
