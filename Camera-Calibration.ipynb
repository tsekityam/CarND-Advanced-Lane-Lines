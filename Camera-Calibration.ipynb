{
 "cells": [
  {
   "cell_type": "code",
   "execution_count": null,
   "metadata": {
    "collapsed": true
   },
   "outputs": [],
   "source": [
    "import glob\n",
    "import pickle\n",
    "\n",
    "import cv2\n",
    "import matplotlib.pyplot as plt\n",
    "import matplotlib.image as mpimg\n",
    "import numpy as np\n",
    "\n",
    "%matplotlib inline"
   ]
  },
  {
   "cell_type": "markdown",
   "metadata": {},
   "source": [
    "# Calibration"
   ]
  },
  {
   "cell_type": "code",
   "execution_count": null,
   "metadata": {
    "collapsed": true
   },
   "outputs": [],
   "source": [
    "max_nx = 9\n",
    "max_ny = 6\n",
    "\n",
    "# Arrays to store object points and image points from all the images.\n",
    "objpoints = [] # 3d points in real world space\n",
    "imgpoints = [] # 2d points in image plane.\n",
    "\n",
    "# Make a list of calibration images\n",
    "images = glob.glob('camera_cal/calibration*.jpg')\n",
    "\n",
    "pickle_path = 'wide_dist_pickle.p'"
   ]
  },
  {
   "cell_type": "code",
   "execution_count": null,
   "metadata": {
    "collapsed": false
   },
   "outputs": [],
   "source": [
    "def findChessboardCorners(img, max_nx, max_ny):\n",
    "    # Try our best to find the max number of corners\n",
    "    for nx in range(max_nx, 2, -1):\n",
    "        for ny in range(max_ny, 2, -1):\n",
    "            ret, corners = cv2.findChessboardCorners(gray, (nx,ny), None)\n",
    "            if ret == True:\n",
    "                return ret, corners, nx, ny\n",
    "    return False\n",
    "\n",
    "fig = plt.figure(figsize=(10, 40))\n",
    "\n",
    "# Step through the list and search for chessboard corners\n",
    "for idx, fname in enumerate(images):    \n",
    "    img = mpimg.imread(fname)\n",
    "    gray = cv2.cvtColor(img, cv2.COLOR_RGB2GRAY)\n",
    "    \n",
    "    # Draw and display the original images\n",
    "    sub1 = plt.subplot(len(images), 2, (idx*2)+1)\n",
    "    sub1.set_xticks(())\n",
    "    sub1.set_yticks(())\n",
    "    sub1.imshow(img)\n",
    "    if idx == 0:\n",
    "        sub1.set_title('Original Images')\n",
    "    \n",
    "    # Find the chessboard corners\n",
    "    ret, corners, nx, ny = findChessboardCorners(gray, max_nx, max_ny)\n",
    "    \n",
    "    # If found, add object points, image points\n",
    "    if ret == True:\n",
    "        # prepare object points\n",
    "        objp = np.zeros((nx*ny,3), np.float32)\n",
    "        objp[:,:2] = np.mgrid[0:nx, 0:ny].T.reshape(-1,2)\n",
    "\n",
    "        objpoints.append(objp)\n",
    "        imgpoints.append(corners)\n",
    "\n",
    "        # Draw and display the images with corners\n",
    "        cornergray = cv2.drawChessboardCorners(img, (nx,ny), corners, ret)\n",
    "\n",
    "        sub2 = plt.subplot(len(images), 2, (idx*2)+2)\n",
    "        sub2.set_xticks(())\n",
    "        sub2.set_yticks(())\n",
    "        sub2.imshow(cornergray)\n",
    "        if idx == 0:\n",
    "            sub2.set_title('Original Images with corners')\n",
    "\n",
    "fig.tight_layout()\n",
    "plt.show()"
   ]
  },
  {
   "cell_type": "code",
   "execution_count": null,
   "metadata": {
    "collapsed": false
   },
   "outputs": [],
   "source": [
    "fig = plt.figure(figsize=(10, 40))\n",
    "\n",
    "img = mpimg.imread(images[0])\n",
    "\n",
    "# Find out the calibration matrix\n",
    "img_size = (img.shape[1], img.shape[0])\n",
    "ret, mtx, dist, rvecs, tvecs = cv2.calibrateCamera(objpoints, imgpoints, img_size,None,None)\n",
    "\n",
    "for idx, fname in enumerate(images):    \n",
    "    img = mpimg.imread(fname)\n",
    "\n",
    "    # Draw and display the original images\n",
    "    sub1 = plt.subplot(len(images), 2, (idx*2)+1)\n",
    "    sub1.set_xticks(())\n",
    "    sub1.set_yticks(())\n",
    "    sub1.imshow(img)\n",
    "    if idx == 0:\n",
    "        sub1.set_title('Original Images')\n",
    "\n",
    "    # Do camera calibration given object points and image points\n",
    "    dst = cv2.undistort(img, mtx, dist, None, mtx)\n",
    "\n",
    "    # Draw and display the undistorted images\n",
    "    sub2 = plt.subplot(len(images), 2, (idx*2)+2)\n",
    "    sub2.set_xticks(())\n",
    "    sub2.set_yticks(())\n",
    "    sub2.imshow(dst)\n",
    "    if idx == 0:\n",
    "        sub2.set_title('Undistorted Images')\n",
    "\n",
    "fig.tight_layout()\n",
    "plt.show()"
   ]
  },
  {
   "cell_type": "code",
   "execution_count": null,
   "metadata": {
    "collapsed": false
   },
   "outputs": [],
   "source": [
    "dist_pickle = {}\n",
    "dist_pickle['mtx'] = mtx\n",
    "dist_pickle['dist'] = dist\n",
    "pickle.dump( dist_pickle, open( pickle_path, 'wb' ) )"
   ]
  },
  {
   "cell_type": "markdown",
   "metadata": {},
   "source": [
    "# Testing"
   ]
  },
  {
   "cell_type": "code",
   "execution_count": null,
   "metadata": {
    "collapsed": false
   },
   "outputs": [],
   "source": [
    "images = glob.glob('test_images/test*.jpg')\n",
    "\n",
    "fig = plt.figure(figsize=(10, 15))\n",
    "\n",
    "for idx, fname in enumerate(images):    \n",
    "    img = mpimg.imread(fname)\n",
    "\n",
    "    # Draw and display the original images\n",
    "    sub1 = plt.subplot(len(images), 2, (idx*2)+1)\n",
    "    sub1.set_xticks(())\n",
    "    sub1.set_yticks(())\n",
    "    sub1.imshow(img)\n",
    "    if idx == 0:\n",
    "        sub1.set_title('Original Images')\n",
    "\n",
    "    # Do camera calibration given object points and image points\n",
    "    dst = cv2.undistort(img, mtx, dist, None, mtx)\n",
    "\n",
    "    # Draw and display the undistorted images\n",
    "    sub2 = plt.subplot(len(images), 2, (idx*2)+2)\n",
    "    sub2.set_xticks(())\n",
    "    sub2.set_yticks(())\n",
    "    sub2.imshow(dst)\n",
    "    if idx == 0:\n",
    "        sub2.set_title('Undistorted Images')\n",
    "\n",
    "fig.tight_layout()\n",
    "plt.show()"
   ]
  },
  {
   "cell_type": "code",
   "execution_count": null,
   "metadata": {
    "collapsed": true
   },
   "outputs": [],
   "source": []
  }
 ],
 "metadata": {
  "kernelspec": {
   "display_name": "Python 3",
   "language": "python",
   "name": "python3"
  },
  "language_info": {
   "codemirror_mode": {
    "name": "ipython",
    "version": 3
   },
   "file_extension": ".py",
   "mimetype": "text/x-python",
   "name": "python",
   "nbconvert_exporter": "python",
   "pygments_lexer": "ipython3",
   "version": "3.5.2"
  },
  "widgets": {
   "state": {},
   "version": "1.1.2"
  }
 },
 "nbformat": 4,
 "nbformat_minor": 2
}
