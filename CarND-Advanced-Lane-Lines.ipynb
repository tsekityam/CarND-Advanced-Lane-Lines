{
 "cells": [
  {
   "cell_type": "code",
   "execution_count": null,
   "metadata": {
    "collapsed": true
   },
   "outputs": [],
   "source": [
    "import glob\n",
    "import pickle\n",
    "\n",
    "import cv2\n",
    "import matplotlib.pyplot as plt\n",
    "import matplotlib.image as mpimg\n",
    "import numpy as np\n",
    "\n",
    "%matplotlib inline"
   ]
  },
  {
   "cell_type": "markdown",
   "metadata": {},
   "source": [
    "# Transform"
   ]
  },
  {
   "cell_type": "code",
   "execution_count": null,
   "metadata": {
    "collapsed": true
   },
   "outputs": [],
   "source": [
    "def draw_lines(img, points, color=[255, 0, 0], thickness=2):\n",
    "    pt1 = points[0]\n",
    "    pt2 = points[1]\n",
    "    pt3 = points[2]\n",
    "    pt4 = points[3]\n",
    "\n",
    "    cv2.line(img, (pt1[0], pt1[1]), (pt2[0], pt2[1]), color, thickness)\n",
    "    cv2.line(img, (pt2[0], pt2[1]), (pt3[0], pt3[1]), color, thickness)\n",
    "    cv2.line(img, (pt3[0], pt3[1]), (pt4[0], pt4[1]), color, thickness)\n",
    "    cv2.line(img, (pt4[0], pt4[1]), (pt1[0], pt1[1]), color, thickness)"
   ]
  },
  {
   "cell_type": "code",
   "execution_count": null,
   "metadata": {
    "collapsed": true
   },
   "outputs": [],
   "source": [
    "# x2-x1/y2-y1 = x2-x3/y2-y3\n",
    "def get_x3(x1, x2, y1, y2, y3):\n",
    "    x3 = x2-(((x2-x1)/(y2-y1))*(y2-y3))\n",
    "    print(x3)\n",
    "    return x3"
   ]
  },
  {
   "cell_type": "code",
   "execution_count": null,
   "metadata": {
    "collapsed": false
   },
   "outputs": [],
   "source": [
    "images = glob.glob('test_images/straight_lines*.jpg')\n",
    "\n",
    "transform_pickle_path = 'wide_transform_pickle.p'\n",
    "\n",
    "dist_pickle_path = 'wide_dist_pickle.p'\n",
    "with open(dist_pickle_path, mode='rb') as f:\n",
    "    dist_pickle = pickle.load(f)\n",
    "    \n",
    "mtx, dist = dist_pickle['mtx'], dist_pickle['dist']\n",
    "\n",
    "y1 = 700 # 720, 650\n",
    "y2 = 465\n",
    "y3 = 460\n",
    "\n",
    "left_x1 = 220 # 200, 300\n",
    "left_x2 = 573 \n",
    "left_x3 = get_x3(left_x1, left_x2, y1, y2, y3)\n",
    "\n",
    "right_x1 = 1060 # 1100, 1000\n",
    "right_x2 = 710\n",
    "right_x3 = get_x3(right_x1, right_x2, y1, y2, y3)\n",
    "\n",
    "src_pt1 = [left_x3, y3]\n",
    "src_pt2 = [right_x3, y3]\n",
    "src_pt3 = [right_x1, y1]\n",
    "src_pt4 = [left_x1, y1]\n",
    "src = np.float32([src_pt1, src_pt2, src_pt3, src_pt4])\n",
    "\n",
    "dst_pt1 = [300, 0]\n",
    "dst_pt2 = [1000, 0]\n",
    "dst_pt3 = [1000, 720]\n",
    "dst_pt4 = [300, 720]\n",
    "dst = np.float32([dst_pt1, dst_pt2, dst_pt3, dst_pt4])"
   ]
  },
  {
   "cell_type": "code",
   "execution_count": null,
   "metadata": {
    "collapsed": false
   },
   "outputs": [],
   "source": [
    "# Step through the list and search for chessboard corners\n",
    "fig = plt.figure(figsize=(10, 6))\n",
    "\n",
    "for idx, fname in enumerate(images):    \n",
    "    img = mpimg.imread(fname)\n",
    "    img = cv2.undistort(img, mtx, dist, None, mtx)\n",
    "    \n",
    "    # Draw and display the original images\n",
    "    sub1 = plt.subplot(len(images), 2, (idx*2)+1)\n",
    "    sub1.imshow(img)\n",
    "    sub1.set_xticks(())\n",
    "    sub1.set_yticks(())\n",
    "    \n",
    "    sub2 = plt.subplot(len(images), 2, (idx*2)+2)\n",
    "    draw_lines(img, src)\n",
    "    sub2.imshow(img)\n",
    "    sub2.set_xticks(())\n",
    "    sub2.set_yticks(())\n",
    "\n",
    "fig.tight_layout()\n",
    "plt.show()"
   ]
  },
  {
   "cell_type": "code",
   "execution_count": null,
   "metadata": {
    "collapsed": false
   },
   "outputs": [],
   "source": [
    "M = cv2.getPerspectiveTransform(src, dst)\n",
    "Minv = cv2.getPerspectiveTransform(dst, src)\n",
    "\n",
    "# Step through the list and search for chessboard corners\n",
    "fig = plt.figure(figsize=(10, 6))\n",
    "\n",
    "for idx, fname in enumerate(images):    \n",
    "    img = mpimg.imread(fname)\n",
    "    img = cv2.undistort(img, mtx, dist, None, mtx)\n",
    "    \n",
    "    img_size = img.shape[1::-1]\n",
    "    warped = cv2.warpPerspective(img, M, img_size, flags=cv2.INTER_LINEAR)\n",
    "\n",
    "    # Draw and display the original images\n",
    "    sub1 = plt.subplot(len(images), 2, (idx*2)+1)\n",
    "    draw_lines(img, src)\n",
    "    sub1.imshow(img)\n",
    "    if idx == 0:\n",
    "        sub1.set_title('Original Images with source points')\n",
    "\n",
    "    sub2 = plt.subplot(len(images), 2, (idx*2)+2)\n",
    "    draw_lines(warped, dst)\n",
    "    sub2.imshow(warped)\n",
    "    if idx == 0:\n",
    "        sub2.set_title('Transformed Images with destination points')\n",
    "\n",
    "fig.tight_layout()\n",
    "plt.show()"
   ]
  },
  {
   "cell_type": "code",
   "execution_count": null,
   "metadata": {
    "collapsed": false
   },
   "outputs": [],
   "source": [
    "images = glob.glob('test_images/test*.jpg')\n",
    "\n",
    "fig = plt.figure(figsize=(10, 15))\n",
    "\n",
    "for idx, fname in enumerate(images):    \n",
    "    img = mpimg.imread(fname)\n",
    "    img = cv2.undistort(img, mtx, dist, None, mtx)\n",
    "    img_size = img.shape[1::-1]\n",
    "\n",
    "    # Draw and display the original images\n",
    "    sub1 = plt.subplot(len(images), 2, (idx*2)+1)\n",
    "    sub1.imshow(img, cmap='gray')\n",
    "    sub1.set_xticks(())\n",
    "    sub1.set_yticks(())\n",
    "\n",
    "    # Draw and display the undistorted images\n",
    "    warped = cv2.warpPerspective(img, M, img_size, flags=cv2.INTER_LINEAR)\n",
    "\n",
    "    sub2 = plt.subplot(len(images), 2, (idx*2)+2)\n",
    "    sub2.imshow(warped, cmap='gray')\n",
    "    sub2.set_xticks(())\n",
    "    sub2.set_yticks(())\n",
    "\n",
    "fig.tight_layout()\n",
    "plt.show()"
   ]
  },
  {
   "cell_type": "markdown",
   "metadata": {},
   "source": [
    "# Threshold"
   ]
  },
  {
   "cell_type": "code",
   "execution_count": null,
   "metadata": {
    "collapsed": false
   },
   "outputs": [],
   "source": [
    "# Edit this function to create your own pipeline.\n",
    "def pipeline(img, l_thresh=(170, 180), sl_thresh=(70, 250), s_thresh=(175, 250), sx_thresh=(20, 100), gray=True):\n",
    "    img = np.copy(img)\n",
    "    # Convert to HSV color space and separate the V channel\n",
    "    hsv = cv2.cvtColor(img, cv2.COLOR_RGB2HLS).astype(np.float)\n",
    "    l_channel = hsv[:,:,1]\n",
    "    s_channel = hsv[:,:,2]\n",
    "    \n",
    "    # Sobel x\n",
    "    sobelx = cv2.Sobel(l_channel, cv2.CV_64F, 1, 0) # Take the derivative in x\n",
    "    abs_sobelx = np.absolute(sobelx) # Absolute x derivative to accentuate lines away from horizontal\n",
    "    scaled_sobel = np.uint8(255*abs_sobelx/np.max(abs_sobelx))\n",
    "    \n",
    "    # Threshold x gradient\n",
    "    sxbinary = np.zeros_like(scaled_sobel)\n",
    "    sxbinary[(scaled_sobel >= sx_thresh[0]) & (scaled_sobel <= sx_thresh[1])] = 1\n",
    "    \n",
    "    # Threshold color channel\n",
    "    s_binary = np.zeros_like(s_channel)\n",
    "    s_binary[(s_channel >= s_thresh[0]) & (s_channel <= s_thresh[1])] = 1\n",
    "    \n",
    "    l_binary = np.zeros_like(l_channel)\n",
    "    l_binary[(l_channel >= l_thresh[0]) & (l_channel <= l_thresh[1]) & (s_channel >= sl_thresh[0]) & (s_channel <= sl_thresh[1])] = 1\n",
    "\n",
    "    if gray == True:\n",
    "        binary_output = np.zeros_like(sxbinary)\n",
    "        binary_output[(l_binary == 1) | (s_binary == 1) | (sxbinary == 1)] = 1\n",
    "        return binary_output\n",
    "    else:\n",
    "        # Stack each channel\n",
    "        # Note color_binary[:, :, 0] is all 0s, effectively an all black image. It might\n",
    "        # be beneficial to replace this channel with something else.\n",
    "        color_binary = np.dstack(( l_binary, sxbinary, s_binary))\n",
    "        return color_binary"
   ]
  },
  {
   "cell_type": "code",
   "execution_count": null,
   "metadata": {
    "collapsed": false
   },
   "outputs": [],
   "source": [
    "# Step through the list and search for chessboard corners\n",
    "fig = plt.figure(figsize=(10, 15))\n",
    "\n",
    "for idx, fname in enumerate(images):    \n",
    "    img = mpimg.imread(fname)\n",
    "    img = cv2.undistort(img, mtx, dist, None, mtx)\n",
    "    img_size = img.shape[1::-1]\n",
    "\n",
    "    # Draw and display the original images\n",
    "    wraped = cv2.warpPerspective(img, M, img_size, flags=cv2.INTER_LINEAR)\n",
    "    sub1 = plt.subplot(len(images), 2, (idx*2)+1)\n",
    "    sub1.imshow(wraped)\n",
    "    sub1.set_xticks(())\n",
    "    sub1.set_yticks(())\n",
    "\n",
    "    # Apply each of the thresholding functions  \n",
    "    wraped_binary = pipeline(img, gray=False)\n",
    "    wraped_binary = cv2.warpPerspective(wraped_binary, M, img_size, flags=cv2.INTER_LINEAR)\n",
    "    sub2 = plt.subplot(len(images), 2, (idx*2)+2)\n",
    "    sub2.imshow(wraped_binary, cmap='gray')\n",
    "    sub2.set_xticks(())\n",
    "    sub2.set_yticks(())\n",
    "\n",
    "\n",
    "fig.tight_layout()\n",
    "plt.show()"
   ]
  },
  {
   "cell_type": "markdown",
   "metadata": {
    "collapsed": true
   },
   "source": [
    "# Sliding Window Search"
   ]
  },
  {
   "cell_type": "code",
   "execution_count": null,
   "metadata": {
    "collapsed": true
   },
   "outputs": [],
   "source": [
    "def get_slided(binary_warped, left_fit = None, right_fit = None):\n",
    "    \n",
    "    if left_fit == None and right_fit == None:\n",
    "        # Assuming you have created a warped binary image called \"binary_warped\"\n",
    "        # Take a histogram of the bottom half of the image\n",
    "        histogram = np.sum(binary_warped[binary_warped.shape[0]/2:,:], axis=0)\n",
    "        # Create an output image to draw on and  visualize the result\n",
    "        out_img = np.dstack((binary_warped, binary_warped, binary_warped))*255\n",
    "        # Find the peak of the left and right halves of the histogram\n",
    "        # These will be the starting point for the left and right lines\n",
    "        midpoint = np.int(histogram.shape[0]/2)\n",
    "        leftx_base = np.argmax(histogram[:midpoint])\n",
    "        rightx_base = np.argmax(histogram[midpoint:]) + midpoint\n",
    "\n",
    "        # Choose the number of sliding windows\n",
    "        nwindows = 9\n",
    "        # Set height of windows\n",
    "        window_height = np.int(binary_warped.shape[0]/nwindows)\n",
    "        # Identify the x and y positions of all nonzero pixels in the image\n",
    "        nonzero = binary_warped.nonzero()\n",
    "        nonzeroy = np.array(nonzero[0])\n",
    "        nonzerox = np.array(nonzero[1])\n",
    "        # Current positions to be updated for each window\n",
    "        leftx_current = leftx_base\n",
    "        rightx_current = rightx_base\n",
    "        # Set the width of the windows +/- margin\n",
    "        margin = 70\n",
    "        # Set minimum number of pixels found to recenter window\n",
    "        minpix = 50\n",
    "        # Create empty lists to receive left and right lane pixel indices\n",
    "        left_lane_inds = []\n",
    "        right_lane_inds = []\n",
    "\n",
    "        # Step through the windows one by one\n",
    "        for window in range(nwindows):\n",
    "            # Identify window boundaries in x and y (and right and left)\n",
    "            win_y_low = binary_warped.shape[0] - (window+1)*window_height\n",
    "            win_y_high = binary_warped.shape[0] - window*window_height\n",
    "            win_xleft_low = leftx_current - margin\n",
    "            win_xleft_high = leftx_current + margin\n",
    "            win_xright_low = rightx_current - margin\n",
    "            win_xright_high = rightx_current + margin\n",
    "            # Draw the windows on the visualization image\n",
    "            cv2.rectangle(out_img,(win_xleft_low,win_y_low),(win_xleft_high,win_y_high),(0,255,0), 2) \n",
    "            cv2.rectangle(out_img,(win_xright_low,win_y_low),(win_xright_high,win_y_high),(0,255,0), 2) \n",
    "            # Identify the nonzero pixels in x and y within the window\n",
    "            good_left_inds = ((nonzeroy >= win_y_low) & (nonzeroy < win_y_high) & (nonzerox >= win_xleft_low) & (nonzerox < win_xleft_high)).nonzero()[0]\n",
    "            good_right_inds = ((nonzeroy >= win_y_low) & (nonzeroy < win_y_high) & (nonzerox >= win_xright_low) & (nonzerox < win_xright_high)).nonzero()[0]\n",
    "            # Append these indices to the lists\n",
    "            left_lane_inds.append(good_left_inds)\n",
    "            right_lane_inds.append(good_right_inds)\n",
    "            # If you found > minpix pixels, recenter next window on their mean position\n",
    "            if len(good_left_inds) > minpix:\n",
    "                leftx_current = np.int(np.mean(nonzerox[good_left_inds]))\n",
    "            if len(good_right_inds) > minpix:        \n",
    "                rightx_current = np.int(np.mean(nonzerox[good_right_inds]))\n",
    "\n",
    "        # Concatenate the arrays of indices\n",
    "        left_lane_inds = np.concatenate(left_lane_inds)\n",
    "        right_lane_inds = np.concatenate(right_lane_inds)\n",
    "    else:\n",
    "        nonzero = binary_warped.nonzero()\n",
    "        nonzeroy = np.array(nonzero[0])\n",
    "        nonzerox = np.array(nonzero[1])\n",
    "        margin = 100\n",
    "        left_lane_inds = ((nonzerox > (left_fit[0]*(nonzeroy**2) + left_fit[1]*nonzeroy + left_fit[2] - margin)) & (nonzerox < (left_fit[0]*(nonzeroy**2) + left_fit[1]*nonzeroy + left_fit[2] + margin))) \n",
    "        right_lane_inds = ((nonzerox > (right_fit[0]*(nonzeroy**2) + right_fit[1]*nonzeroy + right_fit[2] - margin)) & (nonzerox < (right_fit[0]*(nonzeroy**2) + right_fit[1]*nonzeroy + right_fit[2] + margin)))  \n",
    "\n",
    "    # Extract left and right line pixel positions\n",
    "    leftx = nonzerox[left_lane_inds]\n",
    "    lefty = nonzeroy[left_lane_inds] \n",
    "    rightx = nonzerox[right_lane_inds]\n",
    "    righty = nonzeroy[right_lane_inds] \n",
    "    \n",
    "    # Fit a second order polynomial to each\n",
    "    left_fit = np.polyfit(lefty, leftx, 2)\n",
    "    right_fit = np.polyfit(righty, rightx, 2)\n",
    "\n",
    "    # Generate x and y values for plotting\n",
    "    ploty = np.linspace(0, binary_warped.shape[0]-1, binary_warped.shape[0] )\n",
    "    left_fitx = left_fit[0]*ploty**2 + left_fit[1]*ploty + left_fit[2]\n",
    "    right_fitx = right_fit[0]*ploty**2 + right_fit[1]*ploty + right_fit[2]\n",
    "\n",
    "    # Create an image to draw on and an image to show the selection window\n",
    "    out_img = np.dstack((binary_warped, binary_warped, binary_warped))*255\n",
    "    window_img = np.zeros_like(out_img)\n",
    "    # Color in left and right line pixels\n",
    "    out_img[nonzeroy[left_lane_inds], nonzerox[left_lane_inds]] = [255, 0, 0]\n",
    "    out_img[nonzeroy[right_lane_inds], nonzerox[right_lane_inds]] = [0, 0, 255]\n",
    "\n",
    "    # Generate a polygon to illustrate the search window area\n",
    "    # And recast the x and y points into usable format for cv2.fillPoly()\n",
    "    left_line_window1 = np.array([np.transpose(np.vstack([left_fitx-margin, ploty]))])\n",
    "    left_line_window2 = np.array([np.flipud(np.transpose(np.vstack([left_fitx+margin, ploty])))])\n",
    "    left_line_pts = np.hstack((left_line_window1, left_line_window2))\n",
    "    right_line_window1 = np.array([np.transpose(np.vstack([right_fitx-margin, ploty]))])\n",
    "    right_line_window2 = np.array([np.flipud(np.transpose(np.vstack([right_fitx+margin, ploty])))])\n",
    "    right_line_pts = np.hstack((right_line_window1, right_line_window2))\n",
    "\n",
    "    # Draw the lane onto the warped blank image\n",
    "    cv2.fillPoly(window_img, np.int_([left_line_pts]), (0,255, 0))\n",
    "    cv2.fillPoly(window_img, np.int_([right_line_pts]), (0,255, 0))\n",
    "    result = cv2.addWeighted(out_img, 1, window_img, 0.3, 0)\n",
    "\n",
    "\n",
    "    return result, left_fitx, right_fitx, ploty, left_fit, right_fit"
   ]
  },
  {
   "cell_type": "code",
   "execution_count": null,
   "metadata": {
    "collapsed": true
   },
   "outputs": [],
   "source": [
    "def get_curverad_text(ploty, leftx, rightx):\n",
    "    # Define y-value where we want radius of curvature\n",
    "    # I'll choose the maximum y-value, corresponding to the bottom of the image\n",
    "    y_eval = np.max(ploty)\n",
    "\n",
    "    # Define conversions in x and y from pixels space to meters\n",
    "    ym_per_pix = 30/720 # meters per pixel in y dimension\n",
    "    xm_per_pix = 3.7/700 # meters per pixel in x dimension\n",
    "\n",
    "    # Fit new polynomials to x,y in world space\n",
    "    left_fit_cr = np.polyfit(ploty*ym_per_pix, leftx*xm_per_pix, 2)\n",
    "    right_fit_cr = np.polyfit(ploty*ym_per_pix, rightx*xm_per_pix, 2)\n",
    "    # Calculate the new radii of curvature\n",
    "    left_curverad = ((1 + (2*left_fit_cr[0]*y_eval*ym_per_pix + left_fit_cr[1])**2)**1.5) / np.absolute(2*left_fit_cr[0])\n",
    "    right_curverad = ((1 + (2*right_fit_cr[0]*y_eval*ym_per_pix + right_fit_cr[1])**2)**1.5) / np.absolute(2*right_fit_cr[0])    \n",
    "   \n",
    "    return 'LC: ' + str(round(left_curverad, 2)) + 'm, RC: ' + str(round(right_curverad, 2)) + 'm'"
   ]
  },
  {
   "cell_type": "code",
   "execution_count": null,
   "metadata": {
    "collapsed": false
   },
   "outputs": [],
   "source": [
    "fig = plt.figure(figsize=(10, 15))\n",
    "\n",
    "for idx, fname in enumerate(images):    \n",
    "    img = mpimg.imread(fname)\n",
    "    img = cv2.undistort(img, mtx, dist, None, mtx)\n",
    "    img_size = img.shape[1::-1]\n",
    "    img = pipeline(img)\n",
    "    binary_warped = cv2.warpPerspective(img, M, img_size, flags=cv2.INTER_LINEAR)\n",
    "\n",
    "    # Draw and display the original images\n",
    "    sub1 = plt.subplot(len(images), 2, (idx*2)+1)\n",
    "    sub1.imshow(binary_warped, cmap='gray')\n",
    "    sub1.set_xticks(())\n",
    "    sub1.set_yticks(())\n",
    "\n",
    "    slided, left_fitx, right_fitx, ploty, left_fit, right_fit = get_slided(binary_warped)\n",
    "    curverad_text = get_curverad_text(ploty, left_fitx, right_fitx)\n",
    "    \n",
    "    sub2 = plt.subplot(len(images), 2, (idx*2)+2)\n",
    "    sub2.imshow(slided)\n",
    "    sub2.plot(left_fitx, ploty, color='yellow')\n",
    "    sub2.plot(right_fitx, ploty, color='yellow')\n",
    "    sub2.set_xlim([0, 1280])\n",
    "    sub2.set_ylim([720, 0])\n",
    "    sub2.set_xticks(())\n",
    "    sub2.set_yticks(())\n",
    "    sub2.text(100, 100, curverad_text, bbox={'facecolor':'yellow', 'alpha':0.5, 'pad':10})\n",
    "\n",
    "\n",
    "fig.tight_layout()\n",
    "plt.show()"
   ]
  },
  {
   "cell_type": "markdown",
   "metadata": {
    "collapsed": true
   },
   "source": [
    "# Drawing"
   ]
  },
  {
   "cell_type": "code",
   "execution_count": null,
   "metadata": {
    "collapsed": false
   },
   "outputs": [],
   "source": [
    "fig = plt.figure(figsize=(10, 15))\n",
    "\n",
    "for idx, fname in enumerate(images):    \n",
    "    img = mpimg.imread(fname)\n",
    "    undist = cv2.undistort(img, mtx, dist, None, mtx)\n",
    "    img_size = img.shape[1::-1]\n",
    "    img = pipeline(undist)\n",
    "    binary_warped = cv2.warpPerspective(img, M, img_size, flags=cv2.INTER_LINEAR)\n",
    "    slided, left_fitx, right_fitx, ploty, left_fit, right_fit = get_slided(binary_warped)\n",
    "    curverad_text = get_curverad_text(ploty, left_fitx, right_fitx)\n",
    "\n",
    "    # Draw and display the original images\n",
    "    sub1 = plt.subplot(len(images), 2, (idx*2)+1)\n",
    "    sub1.imshow(slided)\n",
    "    sub1.plot(left_fitx, ploty, color='yellow')\n",
    "    sub1.plot(right_fitx, ploty, color='yellow')\n",
    "    sub1.set_xlim([0, 1280])\n",
    "    sub1.set_ylim([720, 0])\n",
    "    sub1.set_xticks(())\n",
    "    sub1.set_yticks(())\n",
    "    \n",
    "    # Create an image to draw the lines on\n",
    "    warp_zero = np.zeros_like(binary_warped).astype(np.uint8)\n",
    "    color_warp = np.dstack((warp_zero, warp_zero, warp_zero))\n",
    "\n",
    "    # Recast the x and y points into usable format for cv2.fillPoly()\n",
    "    pts_left = np.array([np.transpose(np.vstack([left_fitx, ploty]))])\n",
    "    pts_right = np.array([np.flipud(np.transpose(np.vstack([right_fitx, ploty])))])\n",
    "    pts = np.hstack((pts_left, pts_right))\n",
    "\n",
    "    # Draw the lane onto the warped blank image\n",
    "    cv2.fillPoly(color_warp, np.int_([pts]), (0,255, 0))\n",
    "\n",
    "    # Warp the blank back to original image space using inverse perspective matrix (Minv)\n",
    "    newwarp = cv2.warpPerspective(color_warp, Minv, (img.shape[1], img.shape[0])) \n",
    "    # Combine the result with the original image\n",
    "    result = cv2.addWeighted(undist, 1, newwarp, 0.3, 0)\n",
    "    result = cv2.putText(result, curverad_text, (100, 100), cv2.FONT_HERSHEY_SIMPLEX, 2,(255,255,255), 4)\n",
    "    sub2 = plt.subplot(len(images), 2, (idx*2)+2)\n",
    "    sub2.imshow(result)\n",
    "    sub2.set_xticks(())\n",
    "    sub2.set_yticks(())\n",
    "\n",
    "\n",
    "fig.tight_layout()\n",
    "plt.show()"
   ]
  },
  {
   "cell_type": "markdown",
   "metadata": {},
   "source": [
    "# Video"
   ]
  },
  {
   "cell_type": "code",
   "execution_count": null,
   "metadata": {
    "collapsed": true
   },
   "outputs": [],
   "source": [
    "# Import everything needed to edit/save/watch video clips\n",
    "from moviepy.editor import VideoFileClip\n",
    "from IPython.display import HTML"
   ]
  },
  {
   "cell_type": "code",
   "execution_count": null,
   "metadata": {
    "collapsed": true
   },
   "outputs": [],
   "source": [
    "class Lane_lines():\n",
    "    def __init__(self):\n",
    "        self.left_fit = None\n",
    "        self.right_fit = None"
   ]
  },
  {
   "cell_type": "code",
   "execution_count": null,
   "metadata": {
    "collapsed": true
   },
   "outputs": [],
   "source": [
    "lane_lines_stack = []\n",
    "\n",
    "def process_image(image):\n",
    "    previous_left_fit = None\n",
    "    previous_right_fit = None\n",
    "    if (len(lane_lines_stack) > 0):\n",
    "        previous_lane_line = lane_lines_stack.pop()\n",
    "        previous_left_fit = previous_lane_line.left_fit\n",
    "        previous_right_fit = previous_lane_line.right_fit\n",
    "    \n",
    "    undist = cv2.undistort(image, mtx, dist, None, mtx)\n",
    "    img_size = image.shape[1::-1]\n",
    "    img = pipeline(undist)\n",
    "    binary_warped = cv2.warpPerspective(img, M, img_size, flags=cv2.INTER_LINEAR)\n",
    "    slided, left_fitx, right_fitx, ploty, left_fit, right_fit = get_slided(binary_warped, previous_left_fit, previous_right_fit)\n",
    "    curverad_text = get_curverad_text(ploty, left_fitx, right_fitx)\n",
    "    warp_zero = np.zeros_like(binary_warped).astype(np.uint8)\n",
    "    color_warp = np.dstack((warp_zero, warp_zero, warp_zero))\n",
    "\n",
    "    # Recast the x and y points into usable format for cv2.fillPoly()\n",
    "    pts_left = np.array([np.transpose(np.vstack([left_fitx, ploty]))])\n",
    "    pts_right = np.array([np.flipud(np.transpose(np.vstack([right_fitx, ploty])))])\n",
    "    pts = np.hstack((pts_left, pts_right))\n",
    "\n",
    "    # Draw the lane onto the warped blank image\n",
    "    cv2.fillPoly(color_warp, np.int_([pts]), (0,255, 0))\n",
    "\n",
    "    # Warp the blank back to original image space using inverse perspective matrix (Minv)\n",
    "    newwarp = cv2.warpPerspective(color_warp, Minv, (img.shape[1], img.shape[0])) \n",
    "    # Combine the result with the original image\n",
    "    result = cv2.addWeighted(undist, 1, newwarp, 0.3, 0)\n",
    "    result = cv2.putText(result, curverad_text, (100, 100), cv2.FONT_HERSHEY_SIMPLEX, 2,(255,255,255), 4)\n",
    "\n",
    "    lane_lines = Lane_lines()\n",
    "    lane_lines.left_fit = left_fit\n",
    "    lane_lines.right_fit = right_fit\n",
    "    lane_lines_stack.append(lane_lines)\n",
    "    \n",
    "    return result"
   ]
  },
  {
   "cell_type": "code",
   "execution_count": null,
   "metadata": {
    "collapsed": false
   },
   "outputs": [],
   "source": [
    "output_project_video = 'output_project_video.mp4'\n",
    "project_video = VideoFileClip(\"project_video.mp4\")\n",
    "processed_project_video = project_video.fl_image(process_image) #NOTE: this function expects color images!!\n",
    "%time processed_project_video.write_videofile(output_project_video, audio=False)"
   ]
  },
  {
   "cell_type": "code",
   "execution_count": null,
   "metadata": {
    "collapsed": false
   },
   "outputs": [],
   "source": [
    "HTML(\"\"\"\n",
    "<video width=\"960\" height=\"540\" controls>\n",
    "  <source src=\"{0}\">\n",
    "</video>\n",
    "\"\"\".format(output_project_video))"
   ]
  },
  {
   "cell_type": "code",
   "execution_count": null,
   "metadata": {
    "collapsed": false
   },
   "outputs": [],
   "source": [
    "output_challenge_video = 'output_challenge_video.mp4'\n",
    "challenge_video = VideoFileClip(\"challenge_video.mp4\")\n",
    "processed_challenge_video = challenge_video.fl_image(process_image) #NOTE: this function expects color images!!\n",
    "%time processed_challenge_video.write_videofile(output_challenge_video, audio=False)"
   ]
  },
  {
   "cell_type": "code",
   "execution_count": null,
   "metadata": {
    "collapsed": false
   },
   "outputs": [],
   "source": [
    "HTML(\"\"\"\n",
    "<video width=\"960\" height=\"540\" controls>\n",
    "  <source src=\"{0}\">\n",
    "</video>\n",
    "\"\"\".format(output_challenge_video))"
   ]
  },
  {
   "cell_type": "code",
   "execution_count": null,
   "metadata": {
    "collapsed": false
   },
   "outputs": [],
   "source": [
    "output_harder_challenge_video = 'output_harder_challenge_video.mp4'\n",
    "harder_challenge_video = VideoFileClip(\"harder_challenge_video.mp4\")\n",
    "processed_harder_challenge_video = harder_challenge_video.fl_image(process_image) #NOTE: this function expects color images!!\n",
    "%time processed_harder_challenge_video.write_videofile(output_harder_challenge_video, audio=False)"
   ]
  },
  {
   "cell_type": "code",
   "execution_count": null,
   "metadata": {
    "collapsed": false
   },
   "outputs": [],
   "source": [
    "HTML(\"\"\"\n",
    "<video width=\"960\" height=\"540\" controls>\n",
    "  <source src=\"{0}\">\n",
    "</video>\n",
    "\"\"\".format(output_harder_challenge_video))"
   ]
  },
  {
   "cell_type": "code",
   "execution_count": null,
   "metadata": {
    "collapsed": true
   },
   "outputs": [],
   "source": []
  }
 ],
 "metadata": {
  "anaconda-cloud": {},
  "kernelspec": {
   "display_name": "Python [default]",
   "language": "python",
   "name": "python3"
  },
  "language_info": {
   "codemirror_mode": {
    "name": "ipython",
    "version": 3
   },
   "file_extension": ".py",
   "mimetype": "text/x-python",
   "name": "python",
   "nbconvert_exporter": "python",
   "pygments_lexer": "ipython3",
   "version": "3.5.2"
  }
 },
 "nbformat": 4,
 "nbformat_minor": 2
}
