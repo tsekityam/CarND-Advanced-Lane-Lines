{
 "cells": [
  {
   "cell_type": "code",
   "execution_count": null,
   "metadata": {
    "collapsed": true
   },
   "outputs": [],
   "source": [
    "import glob\n",
    "import pickle\n",
    "\n",
    "import cv2\n",
    "import matplotlib.pyplot as plt\n",
    "import matplotlib.image as mpimg\n",
    "import numpy as np\n",
    "\n",
    "%matplotlib inline"
   ]
  },
  {
   "cell_type": "markdown",
   "metadata": {},
   "source": [
    "# Transform"
   ]
  },
  {
   "cell_type": "code",
   "execution_count": null,
   "metadata": {
    "collapsed": true
   },
   "outputs": [],
   "source": [
    "def draw_lines(img, points, color=[255, 0, 0], thickness=2):\n",
    "    pt1 = points[0]\n",
    "    pt2 = points[1]\n",
    "    pt3 = points[2]\n",
    "    pt4 = points[3]\n",
    "\n",
    "    cv2.line(img, (pt1[0], pt1[1]), (pt2[0], pt2[1]), color, thickness)\n",
    "    cv2.line(img, (pt2[0], pt2[1]), (pt3[0], pt3[1]), color, thickness)\n",
    "    cv2.line(img, (pt3[0], pt3[1]), (pt4[0], pt4[1]), color, thickness)\n",
    "    cv2.line(img, (pt4[0], pt4[1]), (pt1[0], pt1[1]), color, thickness)"
   ]
  },
  {
   "cell_type": "code",
   "execution_count": null,
   "metadata": {
    "collapsed": true
   },
   "outputs": [],
   "source": [
    "# x2-x1/y2-y1 = x2-x3/y2-y3\n",
    "def get_x3(x1, x2, y1, y2, y3):\n",
    "    x3 = x2-(((x2-x1)/(y2-y1))*(y2-y3))\n",
    "    print(x3)\n",
    "    return x3"
   ]
  },
  {
   "cell_type": "code",
   "execution_count": null,
   "metadata": {
    "collapsed": false
   },
   "outputs": [],
   "source": [
    "images_directory = 'test_images/'\n",
    "image_names_prefix = 'straight_lines'\n",
    "image_file_extension = '.jpg'\n",
    "images = glob.glob(images_directory + image_names_prefix + '*' + image_file_extension)\n",
    "\n",
    "transform_pickle_path = 'wide_transform_pickle.p'\n",
    "\n",
    "dist_pickle_path = 'wide_dist_pickle.p'\n",
    "with open(dist_pickle_path, mode='rb') as f:\n",
    "    dist_pickle = pickle.load(f)\n",
    "    \n",
    "mtx, dist = dist_pickle['mtx'], dist_pickle['dist']\n",
    "\n",
    "y1 = 700 # 720, 650\n",
    "y2 = 465\n",
    "y3 = 460\n",
    "\n",
    "left_x1 = 220 # 200, 300\n",
    "left_x2 = 573 \n",
    "left_x3 = get_x3(left_x1, left_x2, y1, y2, y3)\n",
    "\n",
    "right_x1 = 1060 # 1100, 1000\n",
    "right_x2 = 710\n",
    "right_x3 = get_x3(right_x1, right_x2, y1, y2, y3)\n",
    "\n",
    "src_pt1 = [left_x3, y3]\n",
    "src_pt2 = [right_x3, y3]\n",
    "src_pt3 = [right_x1, y1]\n",
    "src_pt4 = [left_x1, y1]\n",
    "src = np.float32([src_pt1, src_pt2, src_pt3, src_pt4])\n",
    "\n",
    "dst_pt1 = [300, 0]\n",
    "dst_pt2 = [1000, 0]\n",
    "dst_pt3 = [1000, 720]\n",
    "dst_pt4 = [300, 720]\n",
    "dst = np.float32([dst_pt1, dst_pt2, dst_pt3, dst_pt4])"
   ]
  },
  {
   "cell_type": "code",
   "execution_count": null,
   "metadata": {
    "collapsed": false
   },
   "outputs": [],
   "source": [
    "# Step through the list and search for chessboard corners\n",
    "fig = plt.figure(figsize=(10, 6))\n",
    "\n",
    "for idx, fname in enumerate(images):    \n",
    "    img = mpimg.imread(fname)\n",
    "    img = cv2.undistort(img, mtx, dist, None, mtx)\n",
    "    \n",
    "    # Draw and display the original images\n",
    "    sub1 = plt.subplot(len(images), 2, (idx*2)+1)\n",
    "    sub1.imshow(img)\n",
    "    if idx == 0:\n",
    "        sub1.set_title('Original Images')\n",
    "    \n",
    "    sub2 = plt.subplot(len(images), 2, (idx*2)+2)\n",
    "    draw_lines(img, src)\n",
    "    sub2.imshow(img)\n",
    "    if idx == 0:\n",
    "        sub2.set_title('Original Images with source points')\n",
    "\n",
    "fig.tight_layout()\n",
    "plt.show()"
   ]
  },
  {
   "cell_type": "code",
   "execution_count": null,
   "metadata": {
    "collapsed": false
   },
   "outputs": [],
   "source": [
    "M = cv2.getPerspectiveTransform(src, dst)\n",
    "Minv = cv2.getPerspectiveTransform(dst, src)\n",
    "\n",
    "# Step through the list and search for chessboard corners\n",
    "fig = plt.figure(figsize=(10, 6))\n",
    "\n",
    "for idx, fname in enumerate(images):    \n",
    "    img = mpimg.imread(fname)\n",
    "    img = cv2.undistort(img, mtx, dist, None, mtx)\n",
    "    \n",
    "    img_size = img.shape[1::-1]\n",
    "    warped = cv2.warpPerspective(img, M, img_size, flags=cv2.INTER_LINEAR)\n",
    "\n",
    "    # Draw and display the original images\n",
    "    sub1 = plt.subplot(len(images), 2, (idx*2)+1)\n",
    "    draw_lines(img, src)\n",
    "    sub1.imshow(img)\n",
    "    if idx == 0:\n",
    "        sub1.set_title('Original Images with source points')\n",
    "\n",
    "    sub2 = plt.subplot(len(images), 2, (idx*2)+2)\n",
    "    draw_lines(warped, dst)\n",
    "    sub2.imshow(warped)\n",
    "    if idx == 0:\n",
    "        sub2.set_title('Transformed Images with destination points')\n",
    "\n",
    "fig.tight_layout()\n",
    "plt.show()"
   ]
  },
  {
   "cell_type": "code",
   "execution_count": null,
   "metadata": {
    "collapsed": false
   },
   "outputs": [],
   "source": [
    "images = glob.glob('test_images/test*.jpg')\n",
    "\n",
    "fig = plt.figure(figsize=(10, 15))\n",
    "\n",
    "for idx, fname in enumerate(images):    \n",
    "    img = mpimg.imread(fname)\n",
    "    img = cv2.undistort(img, mtx, dist, None, mtx)\n",
    "    img_size = img.shape[1::-1]\n",
    "\n",
    "    # Draw and display the original images\n",
    "    sub1 = plt.subplot(len(images), 2, (idx*2)+1)\n",
    "    sub1.imshow(img, cmap='gray')\n",
    "    sub1.set_xticks(())\n",
    "    sub1.set_yticks(())\n",
    "\n",
    "    # Draw and display the undistorted images\n",
    "    warped = cv2.warpPerspective(img, M, img_size, flags=cv2.INTER_LINEAR)\n",
    "\n",
    "    sub2 = plt.subplot(len(images), 2, (idx*2)+2)\n",
    "    sub2.imshow(warped, cmap='gray')\n",
    "    sub2.set_xticks(())\n",
    "    sub2.set_yticks(())\n",
    "\n",
    "fig.tight_layout()\n",
    "plt.show()"
   ]
  },
  {
   "cell_type": "markdown",
   "metadata": {},
   "source": [
    "# Threshold"
   ]
  },
  {
   "cell_type": "code",
   "execution_count": null,
   "metadata": {
    "collapsed": false
   },
   "outputs": [],
   "source": [
    "# Edit this function to create your own pipeline.\n",
    "def pipeline(img, s_thresh=(175, 250), sx_thresh=(20, 100), gray=True):\n",
    "    img = np.copy(img)\n",
    "    # Convert to HSV color space and separate the V channel\n",
    "    hsv = cv2.cvtColor(img, cv2.COLOR_RGB2HLS).astype(np.float)\n",
    "    l_channel = hsv[:,:,1]\n",
    "    s_channel = hsv[:,:,2]\n",
    "    \n",
    "    # Sobel x\n",
    "    sobelx = cv2.Sobel(l_channel, cv2.CV_64F, 1, 0) # Take the derivative in x\n",
    "    abs_sobelx = np.absolute(sobelx) # Absolute x derivative to accentuate lines away from horizontal\n",
    "    scaled_sobel = np.uint8(255*abs_sobelx/np.max(abs_sobelx))\n",
    "    \n",
    "    # Threshold x gradient\n",
    "    sxbinary = np.zeros_like(scaled_sobel)\n",
    "    sxbinary[(scaled_sobel >= sx_thresh[0]) & (scaled_sobel <= sx_thresh[1])] = 1\n",
    "    \n",
    "    # Threshold color channel\n",
    "    s_binary = np.zeros_like(s_channel)\n",
    "    s_binary[(s_channel >= s_thresh[0]) & (s_channel <= s_thresh[1])] = 1\n",
    "    \n",
    "    if gray == True:\n",
    "        binary_output = np.zeros_like(sxbinary)\n",
    "        binary_output[(s_binary == 1) | (sxbinary == 1)] = 1\n",
    "        return binary_output\n",
    "    else:\n",
    "        # Stack each channel\n",
    "        # Note color_binary[:, :, 0] is all 0s, effectively an all black image. It might\n",
    "        # be beneficial to replace this channel with something else.\n",
    "        color_binary = np.dstack(( np.zeros_like(sxbinary), sxbinary, s_binary))\n",
    "        return color_binary"
   ]
  },
  {
   "cell_type": "code",
   "execution_count": null,
   "metadata": {
    "collapsed": false
   },
   "outputs": [],
   "source": [
    "# Step through the list and search for chessboard corners\n",
    "fig = plt.figure(figsize=(10, 15))\n",
    "\n",
    "for idx, fname in enumerate(images):    \n",
    "    img = mpimg.imread(fname)\n",
    "    img = cv2.undistort(img, mtx, dist, None, mtx)\n",
    "    img_size = img.shape[1::-1]\n",
    "\n",
    "    # Draw and display the original images\n",
    "    wraped = cv2.warpPerspective(img, M, img_size, flags=cv2.INTER_LINEAR)\n",
    "    sub1 = plt.subplot(len(images), 2, (idx*2)+1)\n",
    "    sub1.imshow(wraped)\n",
    "    \n",
    "    # Apply each of the thresholding functions  \n",
    "    wraped_binary = pipeline(img, gray=False)\n",
    "    wraped_binary = cv2.warpPerspective(wraped_binary, M, img_size, flags=cv2.INTER_LINEAR)\n",
    "    sub2 = plt.subplot(len(images), 2, (idx*2)+2)\n",
    "    sub2.imshow(wraped_binary, cmap='gray')\n",
    "\n",
    "fig.tight_layout()\n",
    "plt.show()"
   ]
  },
  {
   "cell_type": "code",
   "execution_count": null,
   "metadata": {
    "collapsed": true
   },
   "outputs": [],
   "source": []
  }
 ],
 "metadata": {
  "kernelspec": {
   "display_name": "Python 3",
   "language": "python",
   "name": "python3"
  },
  "language_info": {
   "codemirror_mode": {
    "name": "ipython",
    "version": 3
   },
   "file_extension": ".py",
   "mimetype": "text/x-python",
   "name": "python",
   "nbconvert_exporter": "python",
   "pygments_lexer": "ipython3",
   "version": "3.5.2"
  },
  "widgets": {
   "state": {},
   "version": "1.1.2"
  }
 },
 "nbformat": 4,
 "nbformat_minor": 2
}
