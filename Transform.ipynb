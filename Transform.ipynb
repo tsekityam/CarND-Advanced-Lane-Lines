{
 "cells": [
  {
   "cell_type": "code",
   "execution_count": null,
   "metadata": {
    "collapsed": true
   },
   "outputs": [],
   "source": [
    "import glob\n",
    "import pickle\n",
    "\n",
    "import cv2\n",
    "import matplotlib.pyplot as plt\n",
    "import matplotlib.image as mpimg\n",
    "import numpy as np\n",
    "\n",
    "# %matplotlib inline"
   ]
  },
  {
   "cell_type": "markdown",
   "metadata": {},
   "source": [
    "# Transform"
   ]
  },
  {
   "cell_type": "code",
   "execution_count": null,
   "metadata": {
    "collapsed": false
   },
   "outputs": [],
   "source": [
    "images_directory = 'test_images/'\n",
    "image_names_prefix = 'straight_lines'\n",
    "image_file_extension = '.jpg'\n",
    "images = glob.glob(images_directory + image_names_prefix + '*' + image_file_extension)\n",
    "\n",
    "pickle_path = 'wide_dist_pickle.p'\n",
    "with open(pickle_path, mode='rb') as f:\n",
    "    dist_pickle = pickle.load(f)\n",
    "    \n",
    "mtx, dist = dist_pickle['mtx'], dist_pickle['dist']\n",
    "\n",
    "src_pt1 = [595, 450]\n",
    "src_pt2 = [687, 450]\n",
    "src_pt3 = [1100, 720]\n",
    "src_pt4 = [200, 720]\n",
    "src = np.float32([src_pt1, src_pt2, src_pt3, src_pt4])\n",
    "\n",
    "dst_pt1 = [200, 100]\n",
    "dst_pt2 = [1100, 100]\n",
    "dst_pt3 = [1100, 720]\n",
    "dst_pt4 = [200, 720]\n",
    "dst = np.float32([dst_pt1, dst_pt2, dst_pt3, dst_pt4])"
   ]
  },
  {
   "cell_type": "code",
   "execution_count": null,
   "metadata": {
    "collapsed": true
   },
   "outputs": [],
   "source": [
    "def draw_lines(img, points, color=[255, 0, 0], thickness=2):\n",
    "    pt1 = points[0]\n",
    "    pt2 = points[1]\n",
    "    pt3 = points[2]\n",
    "    pt4 = points[3]\n",
    "\n",
    "    cv2.line(img, (pt1[0], pt1[1]), (pt2[0], pt2[1]), color, thickness)\n",
    "    cv2.line(img, (pt2[0], pt2[1]), (pt3[0], pt3[1]), color, thickness)\n",
    "    cv2.line(img, (pt3[0], pt3[1]), (pt4[0], pt4[1]), color, thickness)\n",
    "    cv2.line(img, (pt4[0], pt4[1]), (pt1[0], pt1[1]), color, thickness)"
   ]
  },
  {
   "cell_type": "code",
   "execution_count": null,
   "metadata": {
    "collapsed": false
   },
   "outputs": [],
   "source": [
    "# Step through the list and search for chessboard corners\n",
    "fig = plt.figure(figsize=(10, 6))\n",
    "\n",
    "for idx, fname in enumerate(images):    \n",
    "    img = mpimg.imread(fname)\n",
    "    img = cv2.undistort(img, mtx, dist, None, mtx)\n",
    "    \n",
    "    # Draw and display the original images\n",
    "    sub1 = plt.subplot(len(images), 2, (idx*2)+1)\n",
    "    sub1.imshow(img)\n",
    "    if idx == 0:\n",
    "        sub1.set_title('Original Images')\n",
    "    \n",
    "    sub2 = plt.subplot(len(images), 2, (idx*2)+2)\n",
    "    draw_lines(img, src)\n",
    "    sub2.imshow(img)\n",
    "    if idx == 0:\n",
    "        sub2.set_title('Original Images with source points')\n",
    "\n",
    "fig.tight_layout()\n",
    "plt.show()"
   ]
  },
  {
   "cell_type": "code",
   "execution_count": null,
   "metadata": {
    "collapsed": false
   },
   "outputs": [],
   "source": [
    "M = cv2.getPerspectiveTransform(src, dst)\n",
    "Minv = cv2.getPerspectiveTransform(dst, src)\n",
    "\n",
    "# Step through the list and search for chessboard corners\n",
    "fig = plt.figure(figsize=(10, 6))\n",
    "\n",
    "for idx, fname in enumerate(images):    \n",
    "    img = mpimg.imread(fname)\n",
    "    img = cv2.undistort(img, mtx, dist, None, mtx)\n",
    "    \n",
    "    img_size = img.shape[1::-1]\n",
    "    warped = cv2.warpPerspective(img, M, img_size, flags=cv2.INTER_LINEAR)\n",
    "\n",
    "    # Draw and display the original images\n",
    "    sub1 = plt.subplot(len(images), 2, (idx*2)+1)\n",
    "    draw_lines(img, src)\n",
    "    sub1.imshow(img)\n",
    "    if idx == 0:\n",
    "        sub1.set_title('Original Images with source points')\n",
    "\n",
    "    sub2 = plt.subplot(len(images), 2, (idx*2)+2)\n",
    "    draw_lines(warped, dst)\n",
    "    sub2.imshow(warped)\n",
    "    if idx == 0:\n",
    "        sub2.set_title('Transformed Images with destination points')\n",
    "\n",
    "fig.tight_layout()\n",
    "plt.show()"
   ]
  },
  {
   "cell_type": "markdown",
   "metadata": {},
   "source": [
    "# Testing"
   ]
  },
  {
   "cell_type": "code",
   "execution_count": null,
   "metadata": {
    "collapsed": false
   },
   "outputs": [],
   "source": [
    "images = glob.glob('test_images/test*.jpg')\n",
    "\n",
    "fig = plt.figure(figsize=(10, 15))\n",
    "\n",
    "for idx, fname in enumerate(images):    \n",
    "    img = mpimg.imread(fname)\n",
    "    img = cv2.undistort(img, mtx, dist, None, mtx)\n",
    "\n",
    "    img_size = img.shape[1::-1]\n",
    "    warped = cv2.warpPerspective(img, M, img_size, flags=cv2.INTER_LINEAR)\n",
    "\n",
    "    # Draw and display the original images\n",
    "    sub1 = plt.subplot(len(images), 2, (idx*2)+1)\n",
    "    sub1.set_xticks(())\n",
    "    sub1.set_yticks(())\n",
    "    sub1.imshow(img)\n",
    "    if idx == 0:\n",
    "        sub1.set_title('Original Images')\n",
    "\n",
    "    # Draw and display the undistorted images\n",
    "    sub2 = plt.subplot(len(images), 2, (idx*2)+2)\n",
    "    sub2.set_xticks(())\n",
    "    sub2.set_yticks(())\n",
    "    sub2.imshow(warped)\n",
    "    if idx == 0:\n",
    "        sub2.set_title('Transformed Images')\n",
    "\n",
    "fig.tight_layout()\n",
    "plt.show()"
   ]
  },
  {
   "cell_type": "code",
   "execution_count": null,
   "metadata": {
    "collapsed": true
   },
   "outputs": [],
   "source": []
  }
 ],
 "metadata": {
  "kernelspec": {
   "display_name": "Python 3",
   "language": "python",
   "name": "python3"
  },
  "language_info": {
   "codemirror_mode": {
    "name": "ipython",
    "version": 3
   },
   "file_extension": ".py",
   "mimetype": "text/x-python",
   "name": "python",
   "nbconvert_exporter": "python",
   "pygments_lexer": "ipython3",
   "version": "3.5.2"
  },
  "widgets": {
   "state": {},
   "version": "1.1.2"
  }
 },
 "nbformat": 4,
 "nbformat_minor": 2
}
